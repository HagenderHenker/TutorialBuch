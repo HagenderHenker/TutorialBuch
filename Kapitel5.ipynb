{
 "cells": [
  {
   "cell_type": "markdown",
   "metadata": {},
   "source": [
    "## Einstieg in Python, Theis Thomas: \n",
    "### Kapitel 5, Weiterführende Programmierung"
   ]
  },
  {
   "cell_type": "markdown",
   "metadata": {},
   "source": [
    "#### Kapitel 5.1: Allgemeines\n",
    "\n",
    "##### 5.1.1 Zuweisungsoperatoren\n",
    "\n",
    "1. Zahlen"
   ]
  },
  {
   "cell_type": "code",
   "execution_count": 1,
   "metadata": {},
   "outputs": [
    {
     "name": "stdout",
     "output_type": "stream",
     "text": [
      "2\n",
      "1\n",
      "6\n",
      "36\n",
      "7.2\n",
      "3.0\n",
      "1.0\n"
     ]
    }
   ],
   "source": [
    "a = 1\n",
    "a += 1\n",
    "print(a)\n",
    "a -= 1\n",
    "print(a)\n",
    "a *= 6\n",
    "print(a)\n",
    "a **= 2\n",
    "print(a)\n",
    "a /= 5\n",
    "print(a)\n",
    "a //= 2\n",
    "print(a)\n",
    "a %= 2\n",
    "print(a)\n"
   ]
  },
  {
   "cell_type": "markdown",
   "metadata": {},
   "source": [
    "2. Strings"
   ]
  },
  {
   "cell_type": "code",
   "execution_count": 2,
   "metadata": {},
   "outputs": [
    {
     "name": "stdout",
     "output_type": "stream",
     "text": [
      "hallo\n",
      "hallo python\n",
      "hallo pythonhallo pythonhallo python\n"
     ]
    }
   ],
   "source": [
    "t = \"hallo\"\n",
    "print(t)\n",
    "t += \" python\"\n",
    "print(t)\n",
    "t *= 3\n",
    "print(t)"
   ]
  },
  {
   "cell_type": "markdown",
   "metadata": {},
   "source": [
    "##### 5.1.2 Mehrere Zeilen\n",
    "\n"
   ]
  },
  {
   "cell_type": "code",
   "execution_count": 4,
   "metadata": {},
   "outputs": [
    {
     "name": "stdout",
     "output_type": "stream",
     "text": [
      "Umrechnung Celsius in Fahrenheit\n",
      "Bitte geben Sie eine Temperatur in Celsius ein: \n",
      "10\n",
      "10.0  Grad Celsius entsprechen 50.0  Grad Fahrenheit\n"
     ]
    }
   ],
   "source": [
    "print(\"Umrechnung Celsius in Fahrenheit\")\n",
    "\n",
    "print(\"Bitte geben Sie eine\"\n",
    "      \" Temperatur in Celsius ein: \")\n",
    "TemperaturinCelsius = float(input())\n",
    "\n",
    "TermperaturinFahrenheit = TemperaturinCelsius \\\n",
    "                          * 9 / 5 + 32\n",
    "\n",
    "print(TemperaturinCelsius, \" Grad Celsius entsprechen\",\n",
    "     TermperaturinFahrenheit, \" Grad Fahrenheit\")"
   ]
  },
  {
   "cell_type": "markdown",
   "metadata": {},
   "source": [
    "5.1.3 entfällt\n",
    "##### 5.1.4 pass"
   ]
  },
  {
   "cell_type": "markdown",
   "metadata": {},
   "source": [
    "Darstellung einer Verzweigung bei der einer der Entscheidungszweige keine Auswkirkung hat, aber dennoch auftauchen soll, um z.B. das Programm übersichtlicher zu gesstalten."
   ]
  },
  {
   "cell_type": "code",
   "execution_count": 5,
   "metadata": {},
   "outputs": [
    {
     "name": "stdout",
     "output_type": "stream",
     "text": [
      "Eine der Zahlen ist negativ\n"
     ]
    }
   ],
   "source": [
    "a = -12\n",
    "b = 6 \n",
    "c = 6.2\n",
    "\n",
    "if a >= 0 and b>=0 and c>=0:\n",
    "    pass\n",
    "else:\n",
    "    print(\"Eine der Zahlen ist negativ\")"
   ]
  },
  {
   "cell_type": "markdown",
   "metadata": {},
   "source": [
    "um einen irrelevanten Fall aus der \"else\" Anweisung rauszunehmen"
   ]
  },
  {
   "cell_type": "code",
   "execution_count": 6,
   "metadata": {},
   "outputs": [],
   "source": [
    "a = -12\n",
    "b = 6 \n",
    "c = 6.2\n",
    "\n",
    "if a == 1:\n",
    "    print(\"Fall 1\")\n",
    "elif a == 2:\n",
    "    print(\"Fall 2\")\n",
    "elif a <= 0:\n",
    "    pass\n",
    "else:\n",
    "    print(\"oder Sonst\")"
   ]
  },
  {
   "cell_type": "markdown",
   "metadata": {},
   "source": [
    "keine Ausgabe"
   ]
  },
  {
   "cell_type": "markdown",
   "metadata": {},
   "source": [
    "##### Funktionen *eval() und *exec()\n",
    "eval ermittelt den Wert eines Ausdrucks (eines Strings)\n",
    "\n",
    "exec führt eine zusammengestzte Anweisung aus (auch ein String)"
   ]
  },
  {
   "cell_type": "code",
   "execution_count": 7,
   "metadata": {},
   "outputs": [
    {
     "name": "stdout",
     "output_type": "stream",
     "text": [
      "3.5\n",
      "3.4641016151377544\n",
      "\n",
      "3.5\n",
      "3.4641016151377544\n"
     ]
    }
   ],
   "source": [
    "import math\n",
    "\n",
    "def mw1(a,b):\n",
    "    c = (a+b)/2\n",
    "    return c\n",
    "\n",
    "def mw2(a,b):\n",
    "    c= math.sqrt(a*b)\n",
    "    return c\n",
    "\n",
    "for i in 1,2:\n",
    "    t = \"mw\" + str(i) + \"(3,4)\"\n",
    "    c = eval(t)\n",
    "    print(c)\n",
    "print()\n",
    "    \n",
    "    #exec\n",
    "\n",
    "for i in 1,2:\n",
    "    t = \"print(mw\"+str(i)+\"(3,4))\"\n",
    "0    exec(t)"
   ]
  },
  {
   "cell_type": "markdown",
   "metadata": {},
   "source": [
    "### 5.2 Ausgabe Formatierung"
   ]
  },
  {
   "cell_type": "markdown",
   "metadata": {},
   "source": [
    "##### 5.2.1 print() Funktion\n",
    "\n",
    "Parameter: *sep= ist der Separator\n",
    "            *end= Zeilenende"
   ]
  },
  {
   "cell_type": "code",
   "execution_count": 1,
   "metadata": {
    "collapsed": true
   },
   "outputs": [
    {
     "name": "stdout",
     "output_type": "stream",
     "text": [
      "Ergebnis: 23 + 7.5 = 30.5\n",
      "Ergebnis:23 + 7.5 = 30.5\n",
      "\n",
      "Hamburg\n",
      "Berlin\n",
      "München\n",
      "Stadt=> Hamburg # Stadt=> Berlin # Stadt=> München # "
     ]
    }
   ],
   "source": [
    "a = 23\n",
    "b = 7.5\n",
    "c = a + b\n",
    "\n",
    "print(\"Ergebnis:\", a, \"+\", b, \"=\",c)\n",
    "\n",
    "# Ausgabe ohne Zeilenende\n",
    "\n",
    "print(\"Ergebnis:\", end=\"\")\n",
    "print(a, \"+\", b, \"=\", c)\n",
    "\n",
    "#Neue Zeile\n",
    "print()\n",
    "\n",
    "# Liste\n",
    "stadt = [\"Hamburg\",\"Berlin\", \"München\"]\n",
    "\n",
    "for x in stadt:\n",
    "    print(x)\n",
    "for x in stadt:\n",
    "    print(\"Stadt\", x, sep=\"=> \", end=\" # \")"
   ]
  },
  {
   "cell_type": "markdown",
   "metadata": {},
   "source": [
    "##### 5.2.2 Formatierung mit String Literalen"
   ]
  },
  {
   "cell_type": "markdown",
   "metadata": {},
   "source": [
    "Formatierung mit String-Literalen zur STrukturierung von Dezimalzahlen\n"
   ]
  },
  {
   "cell_type": "code",
   "execution_count": 3,
   "metadata": {},
   "outputs": [
    {
     "name": "stdout",
     "output_type": "stream",
     "text": [
      "Zahlen: 14.285714285714286 0.2857142857142857\n",
      "\n",
      "Format f, Standard:    14.285714 14.285714 0.285714\n",
      "Format f, Nachkomma:                   14.285714\n",
      "Format f, gesamt:        14.2857142857\n",
      "\n",
      "Format e, Standard:     1.428571e+01\n",
      "Format e, Nachkomma:    1.429e+01\n",
      "Format e, gesamt:          1.429e+01\n",
      "Format %, Standard:     28.571429%\n",
      "Format %, Nachkomma:    28.571%\n",
      "Format %, gesamt:            28.571%\n"
     ]
    }
   ],
   "source": [
    "# Erzeugung der Zahlen\n",
    "x = 100/7\n",
    "y = 2/7\n",
    "\n",
    "print(\"Zahlen:\", x, y)\n",
    "print()\n",
    "\n",
    "# Format f\n",
    "\n",
    "print(f\"Format f, Standard:    {x:f} {x:f} {y:f}\")\n",
    "print(f\"Format f, Nachkomma:   {x:25f}\")\n",
    "print(f\"Format f, gesamt:      {x:15.10f}\")\n",
    "print()\n",
    "\n",
    "# Format e (Wissenschaftliches Zahlenformat)\n",
    "\n",
    "print(f\"Format e, Standard:     {x:e}\")\n",
    "print(f\"Format e, Nachkomma:    {x:.3e}\")\n",
    "print(f\"Format e, gesamt:       {x:12.3e}\")\n",
    "      \n",
    "# Format %\n",
    "      \n",
    "print(f\"Format %, Standard:     {y:%}\")\n",
    "print(f\"Format %, Nachkomma:    {y:.3%}\") # Linksbündig mit 3 Nachkommastellen\n",
    "print(f\"Format %, gesamt:       {y:12.3%}\") # Rechtsbündig 12 Zeichen Breite "
   ]
  },
  {
   "cell_type": "markdown",
   "metadata": {},
   "source": [
    "Formatierung von ZEichenketten "
   ]
  },
  {
   "cell_type": "code",
   "execution_count": 10,
   "metadata": {},
   "outputs": [
    {
     "name": "stdout",
     "output_type": "stream",
     "text": [
      " dez     dual oct hex\n",
      "  59   111011  73  3b\n",
      "  60   111100  74  3c\n",
      "  61   111101  75  3d\n",
      "  62   111110  76  3e\n",
      "  63   111111  77  3f\n",
      "  64  1000000 100  40\n",
      "  65  1000001 101  41\n",
      "  66  1000010 102  42\n",
      "  67  1000011 103  43\n",
      "  68  1000100 104  44\n",
      "\n",
      "  Nr        NameAnzahl           EP           GP\n",
      "  23       Apfel   1    2.95 Euro     2.95 Euro\n",
      "   8      Banane   3    1.45 Euro     4.35 Euro\n",
      "  42    Pfirsich   5    3.05 Euro    15.25 Euro\n"
     ]
    }
   ],
   "source": [
    "print(f\"{'dez':>4}{'dual':>9}{'oct':>4}{'hex':>4}\") # Kopfzeile\n",
    "\n",
    "for z in range(59,69):\n",
    "    print(f\"{z:4d}{z:9b}{z:4o}{z:4x}\")\n",
    "print()\n",
    "\n",
    "# Tabelle mit verschiedenen Objekten\n",
    "\n",
    "artname = {23:\"Apfel\", 8:\"Banane\", 42:\"Pfirsich\"}\n",
    "anzahl = {23:1,8:3,42:5}\n",
    "epreis = {23:2.95,8:1.45,42:3.05}\n",
    "\n",
    "#Tabelle\n",
    "\n",
    "print(f\"{'Nr':>4}{'Name':>12}{'Anzahl':>4}{'EP':>13}{'GP':>13}\")\n",
    "\n",
    "for x in 23, 8, 42:\n",
    "    print(f\"{x:4d}{artname[x]:>12}{anzahl[x]:4d}\"\n",
    "          f\"{epreis[x]:8.2f} Euro {anzahl[x]*epreis[x]:8.2f} Euro\")\n",
    "    "
   ]
  },
  {
   "cell_type": "code",
   "execution_count": null,
   "metadata": {},
   "outputs": [],
   "source": []
  }
 ],
 "metadata": {
  "kernelspec": {
   "display_name": "Python 3",
   "language": "python",
   "name": "python3"
  },
  "language_info": {
   "codemirror_mode": {
    "name": "ipython",
    "version": 3
   },
   "file_extension": ".py",
   "mimetype": "text/x-python",
   "name": "python",
   "nbconvert_exporter": "python",
   "pygments_lexer": "ipython3",
   "version": "3.7.3"
  }
 },
 "nbformat": 4,
 "nbformat_minor": 4
}
